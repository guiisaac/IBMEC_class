{
  "nbformat": 4,
  "nbformat_minor": 0,
  "metadata": {
    "colab": {
      "name": "Aula - Programação e ML.ipynb",
      "provenance": [],
      "collapsed_sections": [
        "qRwjpivbqDU2",
        "sgLyiaxktYAM",
        "0J0p6wdTu6-c",
        "8vXubkWMwcEA",
        "foEPKArazBux",
        "4zZfrGuP1R0I",
        "5NcQCeC9_e9c",
        "s1CxxbPBBFdM",
        "Qul-G7nrEee6",
        "EmQlbuiZKgOz"
      ],
      "authorship_tag": "ABX9TyPFQ0Uv2QORkKr2AGG5MVfS",
      "include_colab_link": true
    },
    "kernelspec": {
      "name": "python3",
      "display_name": "Python 3"
    }
  },
  "cells": [
    {
      "cell_type": "markdown",
      "metadata": {
        "id": "view-in-github",
        "colab_type": "text"
      },
      "source": [
        "<a href=\"https://colab.research.google.com/github/guiisaac/IBMEC_class/blob/master/Aula_Programa%C3%A7%C3%A3o_e_ML.ipynb\" target=\"_parent\"><img src=\"https://colab.research.google.com/assets/colab-badge.svg\" alt=\"Open In Colab\"/></a>"
      ]
    },
    {
      "cell_type": "markdown",
      "metadata": {
        "id": "S3llC0yOp_c7",
        "colab_type": "text"
      },
      "source": [
        "# Programação e Machine Learning"
      ]
    },
    {
      "cell_type": "markdown",
      "metadata": {
        "id": "qRwjpivbqDU2",
        "colab_type": "text"
      },
      "source": [
        "## Aula 1"
      ]
    },
    {
      "cell_type": "code",
      "metadata": {
        "id": "oYqDMCHep5Wa",
        "colab_type": "code",
        "colab": {
          "base_uri": "https://localhost:8080/"
        },
        "outputId": "4c24a585-7d68-4b1d-d03d-030908d6874c"
      },
      "source": [
        "print('Hello World')"
      ],
      "execution_count": null,
      "outputs": [
        {
          "output_type": "stream",
          "text": [
            "Hello World\n"
          ],
          "name": "stdout"
        }
      ]
    },
    {
      "cell_type": "markdown",
      "metadata": {
        "id": "2PbBKSo4qKP5",
        "colab_type": "text"
      },
      "source": [
        "## Aula 2"
      ]
    },
    {
      "cell_type": "markdown",
      "metadata": {
        "id": "CviwhK42tVks",
        "colab_type": "text"
      },
      "source": [
        "### Exercício"
      ]
    },
    {
      "cell_type": "markdown",
      "metadata": {
        "id": "sgLyiaxktYAM",
        "colab_type": "text"
      },
      "source": [
        "#### 1\n"
      ]
    },
    {
      "cell_type": "markdown",
      "metadata": {
        "id": "ZzYSHs-tw0Ok",
        "colab_type": "text"
      },
      "source": [
        "Faça um algoritmo que receba dois números e mostre a subtração do primeiro pelo segundo.\n",
        "\n",
        "ALGORITMO\n",
        "\n",
        "DECLARE N1,N2, SUB NUMERICO\n",
        "\n",
        "LEIA N1, N2\n",
        "\n",
        "SUB ← N1 - N2\n",
        "\n",
        "ESCREVA SUB\n",
        "\n",
        "FIMALGORITMO"
      ]
    },
    {
      "cell_type": "code",
      "metadata": {
        "id": "4PcgxNqYtZYE",
        "colab_type": "code",
        "colab": {
          "base_uri": "https://localhost:8080/"
        },
        "outputId": "68a95f61-fca1-4cfc-b151-442cb3fdd1f3"
      },
      "source": [
        "x1 = float(input('Digite o primeiro número: ').replace(',','.'))\n",
        "x2 = float(input('Digite o segundo número: ').replace(',','.'))\n",
        "print('1º Número: ',x1,'\\n2º Número: ',x2)\n",
        "result = x1-x2\n",
        "print('O resultado é: ',result)"
      ],
      "execution_count": null,
      "outputs": [
        {
          "output_type": "stream",
          "text": [
            "Digite o primeiro número: 10\n",
            "Digite o segundo número: 5\n",
            "1º Número:  10.0 \n",
            "2º Número:  5.0\n",
            "O resultado é:  5.0\n"
          ],
          "name": "stdout"
        }
      ]
    },
    {
      "cell_type": "markdown",
      "metadata": {
        "id": "0J0p6wdTu6-c",
        "colab_type": "text"
      },
      "source": [
        "#### 2"
      ]
    },
    {
      "cell_type": "markdown",
      "metadata": {
        "id": "VZomMPU1w9ee",
        "colab_type": "text"
      },
      "source": [
        "Faça um algoritmo que receba o volume de vendas de 3 armazéns e mostre o volume total.\n",
        "\n",
        "ALGORITMO\n",
        "\n",
        "DECLARE V1,V2, V3, VTOTAL NUMERICO\n",
        "\n",
        "LEIA V1, V2, V3\n",
        "\n",
        "VTOTAL ← V1 + V2 + V3\n",
        "\n",
        "ESCREVA VTOTAL\n",
        "\n",
        "FIM\n",
        "\n",
        "ALGORITMO"
      ]
    },
    {
      "cell_type": "code",
      "metadata": {
        "id": "pT9W4e4EvF9B",
        "colab_type": "code",
        "colab": {
          "base_uri": "https://localhost:8080/"
        },
        "outputId": "e472e4d2-7542-4589-cdf1-17faf4f4deb4"
      },
      "source": [
        "x1 = float(input('Digite o primeiro volume de vendas: ').replace(',','.'))\n",
        "x2 = float(input('Digite o segundo volume de vendas: ').replace(',','.'))\n",
        "x3 = float(input('Digite o terceiro volume de vendas: ').replace(',','.'))\n",
        "print('1º Número: ',x1,'\\n2º Número: ',x2,'\\n3º Número: ',x3)\n",
        "result = x1+x2+x3\n",
        "print('O resultado é: ',result)"
      ],
      "execution_count": null,
      "outputs": [
        {
          "output_type": "stream",
          "text": [
            "Digite o primeiro volume de vendas: 10\n",
            "Digite o segundo volume de vendas: 40\n",
            "Digite o terceiro volume de vendas: 50\n",
            "1º Número:  10.0 \n",
            "2º Número:  40.0 \n",
            "3º Número:  50.0\n",
            "O resultado é:  100.0\n"
          ],
          "name": "stdout"
        }
      ]
    },
    {
      "cell_type": "markdown",
      "metadata": {
        "id": "8vXubkWMwcEA",
        "colab_type": "text"
      },
      "source": [
        "#### 3"
      ]
    },
    {
      "cell_type": "markdown",
      "metadata": {
        "id": "CLK2VTYOxKIJ",
        "colab_type": "text"
      },
      "source": [
        "Faça um algoritmo que receba o salário base de um funcionário e calcule seu salário final\n",
        "após 10% de aumento e do recebimento de uma gratificação de $50.00.\n",
        "\n",
        "ALGORITMO\n",
        "\n",
        "DECLARE salbase, salfinal NUMERICO\n",
        "\n",
        "LEIA salbase\n",
        "\n",
        "salfinal ← salbase + (salbase * 0.1)+50\n",
        "\n",
        "ESCREVA salfinal\n",
        "\n",
        "FIM\n",
        "\n",
        "ALGORITMO"
      ]
    },
    {
      "cell_type": "code",
      "metadata": {
        "id": "khyFfHgGwrd7",
        "colab_type": "code",
        "colab": {
          "base_uri": "https://localhost:8080/"
        },
        "outputId": "ac097b71-2713-4f16-f207-6b7d6f6b21e6"
      },
      "source": [
        "salbase = float(input('Digite o salário base: ').replace(',','.'))\n",
        "salfinal = salbase*1.1+50\n",
        "print('O resultado é:R${:.2f}'.format(salfinal))"
      ],
      "execution_count": null,
      "outputs": [
        {
          "output_type": "stream",
          "text": [
            "Digite o salário base: 100,70\n",
            "O resultado é:R$160.77\n"
          ],
          "name": "stdout"
        }
      ]
    },
    {
      "cell_type": "markdown",
      "metadata": {
        "id": "foEPKArazBux",
        "colab_type": "text"
      },
      "source": [
        "#### 4\n"
      ]
    },
    {
      "cell_type": "markdown",
      "metadata": {
        "id": "NgMYu1aJzDs0",
        "colab_type": "text"
      },
      "source": [
        "Faça um algoritmo que calcule e mostre a área de um triângulo.\n",
        "\n",
        "ALGORITMO\n",
        "\n",
        "DECLARE area, base, altura\n",
        "\n",
        "LEIA base, altura\n",
        "\n",
        "area ← (base * altura) / 2\n",
        "\n",
        "ESCREVA area\n",
        "\n",
        "FIM\n",
        "\n",
        "ALGORITMO"
      ]
    },
    {
      "cell_type": "code",
      "metadata": {
        "id": "kNpJHuzszO29",
        "colab_type": "code",
        "colab": {
          "base_uri": "https://localhost:8080/"
        },
        "outputId": "1ec57da2-42be-41f5-c6b1-d79014f865d4"
      },
      "source": [
        "base = float(input('Digite o base: ').replace(',','.'))\n",
        "altura = float(input('Digite o altura: ').replace(',','.'))\n",
        "area = base*altura/2\n",
        "print('O resultado é: {:.2f}'.format(area))"
      ],
      "execution_count": null,
      "outputs": [
        {
          "output_type": "stream",
          "text": [
            "Digite o base: 10\n",
            "Digite o altura: 5\n",
            "O resultado é:25.00\n"
          ],
          "name": "stdout"
        }
      ]
    },
    {
      "cell_type": "markdown",
      "metadata": {
        "id": "4zZfrGuP1R0I",
        "colab_type": "text"
      },
      "source": [
        "#### 5"
      ]
    },
    {
      "cell_type": "markdown",
      "metadata": {
        "id": "LXirNW441TWd",
        "colab_type": "text"
      },
      "source": [
        "Faça um algoritmo que receba uma medida em pés, faça sua conversão para polegadas, jardas e milhas. Sabe-se que 1 pé = 12 polegadas, 1 jarda = 3 pés e 1 milha = 1760 jarda.\n",
        "\n",
        "ALGORITMO\n",
        "\n",
        "DECLARE pes, polegadas, jardas, milhas NUMERICO\n",
        "\n",
        "LEIA pes,\n",
        "\n",
        "polegadas ← pes * 12\n",
        "\n",
        "jardas ← pes / 3\n",
        "\n",
        "milhas ← jardas / 1760\n",
        "\n",
        "ESCREVA polegadas, jardas, milhas\n",
        "\n",
        "FIM\n",
        "ALGORITMO\n"
      ]
    },
    {
      "cell_type": "code",
      "metadata": {
        "id": "U1iRD28l1lIu",
        "colab_type": "code",
        "colab": {}
      },
      "source": [
        "def converter(x):\n",
        "  pol = x*12\n",
        "  jar = x/3\n",
        "  mil = x/1760\n",
        "  print('O resultado é:','\\nPolegadas = {:.2f}'.format(pol),\n",
        "        '\\nJardas = {:.2f}'.format(jar),'\\nMilhas = {:.2f}'.format(mil))"
      ],
      "execution_count": null,
      "outputs": []
    },
    {
      "cell_type": "code",
      "metadata": {
        "id": "wWca-pV83ImM",
        "colab_type": "code",
        "colab": {
          "base_uri": "https://localhost:8080/"
        },
        "outputId": "72d6a04f-b55f-41df-a950-c66a87fb3d0c"
      },
      "source": [
        "converter(200)"
      ],
      "execution_count": null,
      "outputs": [
        {
          "output_type": "stream",
          "text": [
            "O resultado é: \n",
            "Polegadas = 2400.00 \n",
            "Jardas = 66.67 \n",
            "Milhas = 0.11\n"
          ],
          "name": "stdout"
        }
      ]
    },
    {
      "cell_type": "markdown",
      "metadata": {
        "id": "5NcQCeC9_e9c",
        "colab_type": "text"
      },
      "source": [
        "#### 6"
      ]
    },
    {
      "cell_type": "markdown",
      "metadata": {
        "id": "SzZSI2Xo_gb7",
        "colab_type": "text"
      },
      "source": [
        "Faça um algoritmo que receba 3 números e calcule sua média ponderada.\n",
        "\n",
        "ALGORITMO\n",
        "\n",
        "DECLARE V1, V2, V3, P1, P2, P3, MP NUMERICO ´\n",
        "\n",
        "LEIA V1, V2, V3, P1, P2, P3\n",
        "\n",
        "MP ← (V1 * P1 + V2 * P2 + V3 * P3)/ (P1 + P2 + P3)\n",
        "\n",
        "ESCREVA VTOTAL\n",
        "\n",
        "FIM\n",
        "\n",
        "ALGORITMO"
      ]
    },
    {
      "cell_type": "code",
      "metadata": {
        "id": "PixQwYZA_sR5",
        "colab_type": "code",
        "colab": {}
      },
      "source": [
        "def media_ponderada(x,y,z,p1,p2,p3):\n",
        "  resultado = (x*p1+y*p2+z*p3)/(p1+p2+p3)\n",
        "  print('O resultado é: {:.2f}'.format(resultado))"
      ],
      "execution_count": null,
      "outputs": []
    },
    {
      "cell_type": "code",
      "metadata": {
        "id": "oYtaJcPD_uJW",
        "colab_type": "code",
        "colab": {
          "base_uri": "https://localhost:8080/"
        },
        "outputId": "f1cbde86-fdc5-4db8-c7af-ee5a8bc4c4f1"
      },
      "source": [
        "media_ponderada(2,4,6,0.1,0.5,0.4)"
      ],
      "execution_count": null,
      "outputs": [
        {
          "output_type": "stream",
          "text": [
            "O resultado é: 4.60\n"
          ],
          "name": "stdout"
        }
      ]
    },
    {
      "cell_type": "markdown",
      "metadata": {
        "id": "s1CxxbPBBFdM",
        "colab_type": "text"
      },
      "source": [
        "#### 7"
      ]
    },
    {
      "cell_type": "markdown",
      "metadata": {
        "id": "rJDMUFqsBHHg",
        "colab_type": "text"
      },
      "source": [
        "Faça um algoritmo que receba o ano de nascimento de uma pessoa e o ano atual, calcule e mostre: a idade essa pessoa e quantos anos ela teria em 2050.\n",
        "\n",
        "ALGORITMO\n",
        "\n",
        "DECLARE idade, anoNasc, ANOatual NUMERICO ´\n",
        "\n",
        "LEIA anoNasc, ANOatual\n",
        "\n",
        "idade ← ANOatual - anoNasc\n",
        "\n",
        "ESCREVA idade\n",
        "\n",
        "idade ← 2050 - anoNasc\n",
        "\n",
        "ESCREVA idade\n",
        "\n",
        "FIM\n",
        "\n",
        "ALGORITMO"
      ]
    },
    {
      "cell_type": "code",
      "metadata": {
        "id": "7LbCI_1CBQH3",
        "colab_type": "code",
        "colab": {
          "base_uri": "https://localhost:8080/",
          "height": 90
        },
        "outputId": "54143b09-ef13-4434-b75d-176ee7dec26d"
      },
      "source": [
        "ano_nascimento = int(input('Digite o ano de nascimento: '))\n",
        "ano_atual = int(input('Digite o ano atual: '))\n",
        "idade_atual = ano_atual-ano_nascimento\n",
        "idade_2050 = 2050 - ano_nascimento\n",
        "print('Idade atual:',idade_atual,'\\nIdade em 2050:',idade_2050)"
      ],
      "execution_count": null,
      "outputs": [
        {
          "output_type": "stream",
          "text": [
            "Digite o ano de nascimento: 1995\n",
            "Digite o ano atual: 2020\n",
            "Idade atual: 25 \n",
            "Idade em 2050: 55\n"
          ],
          "name": "stdout"
        }
      ]
    },
    {
      "cell_type": "markdown",
      "metadata": {
        "id": "Qul-G7nrEee6",
        "colab_type": "text"
      },
      "source": [
        "#### 2.0"
      ]
    },
    {
      "cell_type": "markdown",
      "metadata": {
        "id": "_gB6wRsQEgEA",
        "colab_type": "text"
      },
      "source": [
        "Faça um programa que solicite como entrada um valor de temperatura em graus Celsius (◦C).\n",
        "e execute a conversão da temperatura para Kelvin (K). Após realizada a conversão mostre na\n",
        "saída do seu programa a temperatura em Kelvin e a temperatura em graus Celsius. Para realizar\n",
        "a conversão utilize a relação: K = C + 273, 15;\n"
      ]
    },
    {
      "cell_type": "code",
      "metadata": {
        "id": "0kBYHpP-JgJj",
        "colab_type": "code",
        "colab": {
          "base_uri": "https://localhost:8080/",
          "height": 54
        },
        "outputId": "fc5632d4-0aa0-4eb4-a736-d5ec4fd72fcf"
      },
      "source": [
        "celsius = float(input('Temperatura Celsus:').replace(',','.'))\n",
        "kelvin = celsius +237.15\n",
        "print('Temperatura em Kelvin:',kelvin)"
      ],
      "execution_count": null,
      "outputs": [
        {
          "output_type": "stream",
          "text": [
            "Temperatura Celsus:200\n",
            "Temperatura em Kelvin: 437.15\n"
          ],
          "name": "stdout"
        }
      ]
    },
    {
      "cell_type": "markdown",
      "metadata": {
        "id": "EmQlbuiZKgOz",
        "colab_type": "text"
      },
      "source": [
        "#### 3.0"
      ]
    },
    {
      "cell_type": "markdown",
      "metadata": {
        "id": "hjG7LQ3tKiKW",
        "colab_type": "text"
      },
      "source": [
        "E hora de dar mais um passo a frente. Com base no seu programa anterior, acrescente a ele a\n",
        "conversão da temperatura em graus Celsius para Kelvin e graus Celsius para graus Fahrenheit.\n",
        "Mantenha o mesmo padrão de saída sugerido, acrescentando a conversão para graus Fahrenheit.\n",
        "Para realizar a conversão utilize a relação: \n",
        "\n",
        "K =C + 273, 15 e F =C ∗ 1, 8 + 32"
      ]
    },
    {
      "cell_type": "code",
      "metadata": {
        "id": "aOjT2BDMKtm_",
        "colab_type": "code",
        "colab": {
          "base_uri": "https://localhost:8080/",
          "height": 72
        },
        "outputId": "2e51345f-f4f5-4012-ebe5-514d4aa74d8a"
      },
      "source": [
        "celsius = float(input('Temperatura Celsus:').replace(',','.'))\n",
        "kelvin = celsius +237.15\n",
        "fahrenheit = celsius*1.8+32\n",
        "print('Temperatura em Kelvin:',kelvin)\n",
        "print('Temperatura em Fahrenheit:',fahrenheit)"
      ],
      "execution_count": null,
      "outputs": [
        {
          "output_type": "stream",
          "text": [
            "Temperatura Celsus:200\n",
            "Temperatura em Kelvin: 437.15\n",
            "Temperatura em Fahrenheit: 392.0\n"
          ],
          "name": "stdout"
        }
      ]
    },
    {
      "cell_type": "markdown",
      "metadata": {
        "id": "MBHQD5X6l_aq",
        "colab_type": "text"
      },
      "source": [
        "## Aula 3"
      ]
    },
    {
      "cell_type": "markdown",
      "metadata": {
        "id": "CIrIspdEqNco",
        "colab_type": "text"
      },
      "source": [
        "### Exercícios"
      ]
    },
    {
      "cell_type": "markdown",
      "metadata": {
        "id": "JHUSisCiqP70",
        "colab_type": "text"
      },
      "source": [
        "#### 1\n",
        "\n",
        "Faça um Programa que peça dois números inteiros e um número real. Calcule e mostre:\n",
        "\n",
        "(a) o produto do dobro do primeiro com metade do segundo.\n",
        "\n",
        "(b) a soma do triplo do primeiro com o terceiro.\n",
        "\n",
        "(c) o terceiro elevado ao cubo."
      ]
    },
    {
      "cell_type": "code",
      "metadata": {
        "id": "3MvXlG-kqRSV",
        "colab_type": "code",
        "colab": {}
      },
      "source": [
        "n1 = int(input('1º número inteiro:'))\n",
        "n2 = int(input('2º número inteiro:'))\n",
        "n3 = float(input('1º número real:').replace(',','.'))\n",
        "\n",
        "result1 = 2*n1*n2/2\n",
        "result2 = 3*n1 + n3\n",
        "result3 = n3**3\n",
        "\n",
        "print('\\nA) ',result1,'\\nB) ',result2, '\\nC) ',result3)"
      ],
      "execution_count": null,
      "outputs": []
    },
    {
      "cell_type": "markdown",
      "metadata": {
        "id": "Bso_zLHArhTg",
        "colab_type": "text"
      },
      "source": [
        "#### 2\n",
        "\n",
        "Faça um programa que leia o salário bruto de uma pessoa em um determinado mês. Calcule e mostre o seu salário líquido no referido mês, sabendo-se que são descontados 11% para o Imposto de Renda, 8% para o INSS e 5% para o sindicato. A saída do programa deve escrever o seguinte texto:"
      ]
    },
    {
      "cell_type": "code",
      "metadata": {
        "id": "kr_SeL2xmB0_",
        "colab_type": "code",
        "colab": {}
      },
      "source": [
        "salary = float(input('Informe seu salário bruto:').replace(',','.'))\n",
        "\n",
        "ir = salary*0.11\n",
        "inss = salary*0.08\n",
        "sindicato = salary*0.05\n",
        "\n",
        "desconto = ir+inss+sindicato\n",
        "total = salary - desconto\n",
        "\n",
        "print('\\n(+) Salário bruto: R$',salary,\n",
        "      '\\n(-) IR (11%): R$',ir,\n",
        "      '\\n(-) INSS (8%): R$',inss,\n",
        "      '\\n(-) Sindicato: R$',sindicato,\n",
        "      '\\n(-) Total desconto: R$',desconto,\n",
        "      '\\n(=) Salário Liquido: R$', total)"
      ],
      "execution_count": null,
      "outputs": []
    },
    {
      "cell_type": "markdown",
      "metadata": {
        "id": "Opx5NlEStL0-",
        "colab_type": "text"
      },
      "source": [
        "#### 3\n",
        "Um determinado prêmio de loteria saiu para um bolão de três amigos. Uma lei garante que todo prêmio de loteria deva pagar um imposto de 7% para os cofres estaduais. Do total descontado o imposto, os amigos irão dividir o prêmio da seguinte maneira:\n",
        "\n",
        "(a) O primeiro ganhador recebera 46\n",
        "\n",
        "(b) O segundo recebera 32\n",
        "\n",
        "(c) O terceiro recebera o restante;\n",
        "\n",
        "Faça um programa que leia o valor total do prêmio, calcule o desconto, o valor que cada um tem direito e imprima o total do prêmio, o premio descontado o imposto e a quantia recebida por cada um dos ganhadores."
      ]
    },
    {
      "cell_type": "code",
      "metadata": {
        "id": "zDFcWsumtc5e",
        "colab_type": "code",
        "colab": {}
      },
      "source": [
        "prize = float(input('Digite o prêmio da loteria: ').replace(',','.'))\n",
        "tax = prize *0.07\n",
        "result = prize-tax\n",
        "A = result*0.46\n",
        "B = result*0.32\n",
        "C = result-A-B\n",
        "\n",
        "print('\\n(+) Prêmio bruto: R${:.2f}'.format(prize),\n",
        "      '\\n(-) Imposto (7%): R${:.2f}'.format(tax),\n",
        "      '\\n(=) Prêmio Liquido: R${:.2f}'.format(result),\n",
        "      '\\nPrêmio A: R${:.2f}'.format(A),\n",
        "      '\\nPrêmio B: R${:.2f}'.format(B),\n",
        "      '\\nPrêmio C: R${:.2f}'.format(C))"
      ],
      "execution_count": null,
      "outputs": []
    },
    {
      "cell_type": "markdown",
      "metadata": {
        "id": "EsWPyyigvP_Y",
        "colab_type": "text"
      },
      "source": [
        "#### 4\n",
        "\n",
        "A padaria DuPain vende diariamente uma certa quantidade de pães franceses e uma quantidade de broas. Cada pãozinho custa R$0,80 e a broa custa R$2,50. Do total arrecadado, 43% corresponde aos custos de fabricação. Do restante, Seu joão guarda 15% numa conta de poupan¸ca e 15% ele converte em Euros para sua viagem Anual. Sabe-se que 1 Euro custa R$ 4,60. Com base nestes fatos, façaa um progrma para ler as quantidades de pães e de broas, calcular a venda total de pães e broas, o custo de fabricação, quanto irá guardar na poupançaa e quantos euros irá comprar. \n",
        "\n",
        "Ao final exibir os dados calculados."
      ]
    },
    {
      "cell_type": "code",
      "metadata": {
        "id": "47mxdyWlvsKJ",
        "colab_type": "code",
        "colab": {}
      },
      "source": [
        "sales_bread = int(input('Digite quantos pães foram vendidos: '))\n",
        "sales_broa = int(input('Digite quantas broas foram vendidas: '))\n",
        "\n",
        "bread = sales_bread*0.8\n",
        "broa = sales_broa*2.5\n",
        "total = bread + broa\n",
        "fabrication = total*0.43\n",
        "subtotal = total-fabrication\n",
        "\n",
        "invest = subtotal*0.15\n",
        "euro = (subtotal*0.15)/4.6\n",
        "\n",
        "print('\\n(+) Venda Pão: R${:.2f}'.format(bread),\n",
        "      '\\n(+) Venda Broa: R${:.2f}'.format(broa),\n",
        "      '\\n(-) Custo de fabricação: R${:.2f}'.format(fabrication),\n",
        "      '\\n(=) Subtotal: R${:.2f}'.format(subtotal),\n",
        "      '\\nPoupança: R${:.2f}'.format(invest),\n",
        "      '\\nEuro: {:.2f}'.format(euro))"
      ],
      "execution_count": null,
      "outputs": []
    },
    {
      "cell_type": "markdown",
      "metadata": {
        "id": "D9r-p8C5x3uh",
        "colab_type": "text"
      },
      "source": [
        "## Aula 4"
      ]
    },
    {
      "cell_type": "markdown",
      "metadata": {
        "id": "5YI8CDq78eyj",
        "colab_type": "text"
      },
      "source": [
        "### Receber velocidade e se for maior do que 80, o condutor será multado por R$5,00 a cada km/h acima de 80. \n",
        "\n",
        "Mostre o valor da multa."
      ]
    },
    {
      "cell_type": "code",
      "metadata": {
        "id": "NY4GFylfx-RE",
        "colab_type": "code",
        "colab": {
          "base_uri": "https://localhost:8080/"
        },
        "outputId": "1382c0ed-5eef-43b6-c73d-032b7669530f"
      },
      "source": [
        "speed = int(input('Escreva a velocidade:'))\n",
        "if speed >80:\n",
        "  multa = (speed-80)*5\n",
        "  print('Foi multado! \\nPague: R$',multa)\n",
        "else:\n",
        "  print('Tudo normal!')"
      ],
      "execution_count": null,
      "outputs": [
        {
          "output_type": "stream",
          "text": [
            "Escreva a velocidade:100\n",
            "Foi multado! \n",
            "Pague: R$ 100\n"
          ],
          "name": "stdout"
        }
      ]
    },
    {
      "cell_type": "markdown",
      "metadata": {
        "id": "SiIKDo0f8swP",
        "colab_type": "text"
      },
      "source": [
        "### Receber o valor do salário, se for maior do que 3000 terá imposto de 35%, se for entre 1000 e 3000 reais terá imposto de 20% e se for menor do que 1000 não terá imposto.\n",
        "\n",
        "Mostre o valor do imposto pago."
      ]
    },
    {
      "cell_type": "code",
      "metadata": {
        "id": "D9UswD7q0MLl",
        "colab_type": "code",
        "colab": {
          "base_uri": "https://localhost:8080/"
        },
        "outputId": "ac50ca3c-1f1f-4c0d-e524-6970436b97ef"
      },
      "source": [
        "salary = float(input('Escreva o salário:').replace(',','.'))\n",
        "if salary >3000:\n",
        "  tax1 = salary*0.35\n",
        "  print('Imposto a ser pago: R$',tax1)\n",
        "elif salary>1000:\n",
        "  tax2=salary*0.2\n",
        "  print('Imposto a ser pago: R$',tax2)\n",
        "else:\n",
        "  print('Nenhum imposto será cobrado.')"
      ],
      "execution_count": null,
      "outputs": [
        {
          "output_type": "stream",
          "text": [
            "Escreva o salário:4000\n",
            "Imposto a ser pago: R$ 1400.0\n"
          ],
          "name": "stdout"
        }
      ]
    },
    {
      "cell_type": "markdown",
      "metadata": {
        "id": "rNXDk6Yb_jO2",
        "colab_type": "text"
      },
      "source": [
        "### Exercícios"
      ]
    },
    {
      "cell_type": "markdown",
      "metadata": {
        "id": "0wCMMXHK_o1-",
        "colab_type": "text"
      },
      "source": [
        "#### 1\n",
        "\n",
        "Usando estruturas condicionais simples, faça um programa que receba dois números inteiros e mostre qual deles é o maior ou se os dois números são iguais."
      ]
    },
    {
      "cell_type": "code",
      "metadata": {
        "id": "KeKfedpl_muP",
        "colab_type": "code",
        "colab": {
          "base_uri": "https://localhost:8080/",
          "height": 72
        },
        "outputId": "4cacc284-f0b6-4a16-d7cc-b1c3ab5fb30b"
      },
      "source": [
        "number1 = int(input('Escreva o 1º número:'))\n",
        "number2 = int(input('Escreva o 2º número:'))\n",
        "if number1 > number2:\n",
        "  print('O número %d é maior que o %d'%(number1,number2))\n",
        "elif number2 >number1:\n",
        "  print('O número %d é maior que o %d'%(number2,number1))\n",
        "else:\n",
        "  print('São iguais!')"
      ],
      "execution_count": null,
      "outputs": [
        {
          "output_type": "stream",
          "text": [
            "Escreva o 1º número:10\n",
            "Escreva o 2º número:10\n",
            "São iguais!\n"
          ],
          "name": "stdout"
        }
      ]
    },
    {
      "cell_type": "markdown",
      "metadata": {
        "id": "mTqhmHM-A4Mq",
        "colab_type": "text"
      },
      "source": [
        "#### 2\n",
        "\n",
        "Faça um novo programa considerando 3 números inteiros.\n"
      ]
    },
    {
      "cell_type": "code",
      "metadata": {
        "id": "Geyf--X3A5uv",
        "colab_type": "code",
        "colab": {}
      },
      "source": [
        "number1 = int(input('Escreva o 1º número:'))\n",
        "number2 = int(input('Escreva o 2º número:'))\n",
        "number3 = int(input('Escreva o 3º número:'))\n",
        "if number1 > number2:\n",
        "  if number1 > number3:\n",
        "    print('O número %d é maior que o %d e %d'%(number1,number2,number3))\n",
        "  else:\n",
        "    print('O número %d é maior que o %d e %d'%(number3,number2,number1))\n",
        "elif number2 > number1:\n",
        "  if number2 > number3:\n",
        "    print('O número %d é maior que o %d e %d'%(number2,number1,number3))\n",
        "  else:\n",
        "    print('O número %d é maior que o %d e %d'%(number3,number2,number1))\n",
        "else:\n",
        "  print('São iguais')"
      ],
      "execution_count": null,
      "outputs": []
    },
    {
      "cell_type": "markdown",
      "metadata": {
        "id": "WfUoFxGpCTDY",
        "colab_type": "text"
      },
      "source": [
        "#### 3 \n",
        "\n",
        "Usando estruturas condicionais simples, faça um programa que mostre o menu de opções a seguir, receba a opção do usuário e os dados necessários para executar cada operação.\n",
        "**Menu de opções:**\n",
        "1. Multiplicar dois números\n",
        "2. Dividir dois números\n",
        "\n",
        "Digite a opção desejada:\n",
        "\n",
        "ALGORITMO\n",
        "\n",
        "DECLARE opcao, n1, n2, rstd NUMERICO \n",
        "\n",
        "ESCREVA “MENU”\n",
        "\n",
        "ESCREVA “1. MULTIPLICAR DOIS NUMEROS;”\n",
        "\n",
        "ESCREVA “2. DIVIDIR DOIS NUMEROS;”\n",
        "\n",
        "ESCREVA “DIGITE A OPCAO DESEJADA”\n",
        "\n",
        "LEIA opcao"
      ]
    },
    {
      "cell_type": "code",
      "metadata": {
        "id": "2iTOsbVpCvGF",
        "colab_type": "code",
        "colab": {}
      },
      "source": [
        "operation = int(input('Menu: \\n1.Multiplicar dois números [Digite 1] \\n2.Dividir dois números [Digite 2]\\n'))\n",
        "\n",
        "number1 = int(input('Escreva o 1º número:'))\n",
        "number2 = int(input('Escreva o 2º número:'))"
      ],
      "execution_count": null,
      "outputs": []
    },
    {
      "cell_type": "markdown",
      "metadata": {
        "id": "gLzyqBSAD4hn",
        "colab_type": "text"
      },
      "source": [
        "#### 4\n",
        "\n",
        "Faça um programa que receba um número inteiro e informe se o mesmo é par ou ímpar.\n"
      ]
    },
    {
      "cell_type": "code",
      "metadata": {
        "id": "QTtkIiz8EA-i",
        "colab_type": "code",
        "colab": {
          "base_uri": "https://localhost:8080/",
          "height": 54
        },
        "outputId": "3d5ad600-ea39-4506-9167-0921e0efb2cb"
      },
      "source": [
        "number1 = int(input('Escreva o 1º número:'))\n",
        "if number1//2 != number1/2:\n",
        "  print('É ímpar!')\n",
        "else:\n",
        "  print('É par!')"
      ],
      "execution_count": null,
      "outputs": [
        {
          "output_type": "stream",
          "text": [
            "Escreva o 1º número:0\n",
            "É par!\n"
          ],
          "name": "stdout"
        }
      ]
    },
    {
      "cell_type": "markdown",
      "metadata": {
        "id": "RXKo5jM7E_mH",
        "colab_type": "text"
      },
      "source": [
        "#### 5\n",
        "\n",
        "Faça um programa que receba a altura e o peso de um produto, De acordo com as informações:\n",
        "\n",
        "1.   Menores do que 1.20 m: até 60 gr “A”, entre 60 e 90 (inclusive) “D”, acima de 90 “G”\n",
        "2.   De 1.20 m at´e 1.70 m: até 60 gr “B”, entre 60 e 90 (inclusive) “E”, acima de 90 “H”\n",
        "3. Menores do que 1.70 m: até 60 gr “c”, entre 60 e 90 (inclusive) “F”, acima de 90 “I”"
      ]
    },
    {
      "cell_type": "code",
      "metadata": {
        "id": "wK6cv_PRFnbu",
        "colab_type": "code",
        "colab": {}
      },
      "source": [
        "weight = float(input('Escreva o peso:').replace(',','.'))\n",
        "height = float(input('Escreva a altura:').replace(',','.'))\n",
        "\n",
        "if height < 1.2:\n",
        "  if weight <= 60:\n",
        "    print('A')\n",
        "  if weight > 60 and weight < 90:\n",
        "    print('D')\n",
        "  if weight > 90:\n",
        "    print('G')\n",
        "if height >= 1.2 and height < 1.7:\n",
        "  if weight <= 60:\n",
        "    print('B')\n",
        "  if weight > 60 and weight < 90:\n",
        "    print('E')\n",
        "  if weight > 90:\n",
        "    print('H')\n",
        "if height > 1.7:\n",
        "  if weight <= 60:\n",
        "    print('C')\n",
        "  if weight > 60 and weight < 90:\n",
        "    print('F')\n",
        "  if weight > 90:\n",
        "    print('I')"
      ],
      "execution_count": null,
      "outputs": []
    },
    {
      "cell_type": "markdown",
      "metadata": {
        "id": "MxhnO95fHd8J",
        "colab_type": "text"
      },
      "source": [
        "#### 6\n",
        "\n",
        "Faça um programa em c que receba:\n",
        "\n",
        "1.   O código de um produto comprado, supondo que a digitaço do código do produto seja sempre válida, isto é, um número entre 1 e 10.\n",
        "2.   O peso do produto em quilos.\n",
        "3. O código do país de origem, supondo que a digitaço do código seja sempre válida, isto é, um número inteiro entre 1 e 3.\n",
        "4. Sabendo que:\n",
        "*   Para País de origem “1” o imposto é de %0;\n",
        "*   Para País de origem “2” o imposto é de %15;\n",
        "*   Para País de origem “3” o imposto é de %25;\n",
        "*   Para o código do produto “1 a 4 ” o preço por grama é $10;\n",
        "\n",
        "*   Para o código do produto “5 a 7 ” o preço por grama é $25;\n",
        "\n",
        "*   Para o código do produto “8 a 10 ” o preço por grama é $35;\n",
        "\n",
        "5. Calcule e mostre:\n",
        "* O preço do produto convertido em gramas;\n",
        "* O preço toral do produto comprado;\n",
        "* O valor do imposto, sabendo que ele é cobrado sobre o preço total do produto comprado e depende do país de origem;\n",
        "* O valor total preço total do produto mais imposto."
      ]
    },
    {
      "cell_type": "code",
      "metadata": {
        "id": "OKyO18PDJNqr",
        "colab_type": "code",
        "colab": {
          "base_uri": "https://localhost:8080/",
          "height": 145
        },
        "outputId": "9226b5ca-bac3-4ebe-9800-e158858ad574"
      },
      "source": [
        "id_code = int(input('Escreva o código do produto:'))\n",
        "while id_code < 0 or id_code>10:\n",
        "  id_code = int(input('Escreva o código do produto em quilos:'))\n",
        "weight = float(input('Escreva o peso:').replace(',','.'))\n",
        "weight_grams = weight*1000\n",
        "country_code = int(input('Escreva o código do país:'))\n",
        "while country_code < 1 or country_code>3:\n",
        "  country_code = int(input('Escreva o código do país:'))\n",
        "\n",
        "weight_grams = weight*1000\n",
        "if country_code==1:\n",
        "  if id_code<5:\n",
        "    print('O peso em gramas é: ',weight_grams)\n",
        "    print('O preço subtotal é R$:{:.2f}'.format(weight_grams*10))\n",
        "    print('O imposto é: R$ 0,00')\n",
        "    print('O preço total é: R${:.2f}'.format(weight_grams*10)*(1))\n",
        "  if id_code<8 and id_code>4:\n",
        "    print('O peso em gramas é: ',weight_grams)\n",
        "    print('O preço subtotal é R$:{:.2f}'.format(weight_grams*25))\n",
        "    print('O imposto é: R${:.2f}'.format(weight_grams*10*0))\n",
        "    print('O preço total é: R${:.2f}'.format(weight_grams*10)*(1))\n",
        "  if id_code>7:\n",
        "    print('O peso em gramas é: ',weight_grams)\n",
        "    print('O preço subtotal é R$:{:.2f}'.format(weight_grams*35))\n",
        "    print('O imposto é: R${:.2f}'.format(weight_grams*10*0))\n",
        "    print('O preço total é: R${:.2f}'.format(weight_grams*10)*(1))\n",
        "if country_code==2:\n",
        "  if id_code<5:\n",
        "    print('O peso em gramas é: ',weight_grams)\n",
        "    print('O preço subtotal é R$:{:.2f}'.format(weight_grams*10))\n",
        "    print('O imposto é: R${:.2f}'.format(weight_grams*10*0.15))\n",
        "    print('O preço total é: R${:.2f}'.format(weight_grams*10)*(1.15))\n",
        "  if id_code<8 and id_code>4:\n",
        "    print('O peso em gramas é: ',weight_grams)\n",
        "    print('O preço subtotal é R$:{:.2f}'.format(weight_grams*25))\n",
        "    print('O imposto é: R${:.2f}'.format(weight_grams*25*0.15))\n",
        "    print('O preço total é: R${:.2f}'.format(weight_grams*25)*(1.15))\n",
        "  if id_code>7:\n",
        "    print('O peso em gramas é: ',weight_grams)\n",
        "    print('O preço subtotal é R$:{:.2f}'.format(weight_grams*35))\n",
        "    print('O imposto é: R${:.2f}'.format(weight_grams*35*0.15))\n",
        "    print('O preço total é: R${:.2f}'.format(weight_grams*35)*(1.15))\n",
        "if country_code==3:\n",
        "  if id_code<5:\n",
        "    print('O peso em gramas é: ',weight_grams)\n",
        "    print('O preço subtotal é R$:{:.2f}'.format(weight_grams*10))\n",
        "    print('O imposto é: R${:.2f}'.format(weight_grams*10*0.25))\n",
        "    print('O preço total é: R${:.2f}'.format(weight_grams*10)*(1.25))\n",
        "  if id_code<8 and id_code>4:\n",
        "    print('O peso em gramas é: ',weight_grams)\n",
        "    print('O preço subtotal é R$:{:.2f}'.format(weight_grams*25))\n",
        "    print('O imposto é: R${:.2f}'.format(weight_grams*25*0.25))\n",
        "    print('O preço total é: R${:.2f}'.format(weight_grams*25)*(1.25))\n",
        "  if id_code>7:\n",
        "    print('O peso em gramas é: ',weight_grams)\n",
        "    print('O preço subtotal é R$:{:.2f}'.format(weight_grams*35))\n",
        "    print('O imposto é: R${:.2f}'.format(weight_grams*35*0.25))\n",
        "    print('O preço total é: R${:.2f}'.format(weight_grams*35)*(1.25))"
      ],
      "execution_count": null,
      "outputs": [
        {
          "output_type": "stream",
          "text": [
            "Escreva o código do produto:5\n",
            "Escreva o peso:1\n",
            "Escreva o código do país:1\n",
            "O peso em gramas é:  1000.0\n",
            "O preço subtotal é R$:25000.00\n",
            "O imposto é: R$0.00\n",
            "O preço total é: R$10000.00\n"
          ],
          "name": "stdout"
        }
      ]
    },
    {
      "cell_type": "markdown",
      "metadata": {
        "id": "BMLFA-6Ig6rF",
        "colab_type": "text"
      },
      "source": [
        "## Aula 5"
      ]
    },
    {
      "cell_type": "markdown",
      "metadata": {
        "id": "25CdXL0ig-UE",
        "colab_type": "text"
      },
      "source": [
        "### Trabalho"
      ]
    },
    {
      "cell_type": "markdown",
      "metadata": {
        "id": "9OgsOF5zhA2u",
        "colab_type": "text"
      },
      "source": [
        "#### 1\n",
        "\n",
        "Faça um programa que receba uma hora formada por hora e minutos (um número real), calcule e mostre a hora digitada apenas em minutos. Lembre-se de que:\n",
        "\n",
        "• para quatro e meia, deve-se digitar 4.30;\n",
        "\n",
        "• os minutos vão de 0 a 59;\n",
        "\n",
        "Observação: para utilizar somente a parte inteira de uma variável real utlilize o comando (int).\n",
        "\n",
        "Exemplo:\n",
        "float a, b;\n",
        "scanf (”%f”, &b);\n",
        "a = (int) b;\n",
        "No caso acima, a variável real a armazernará somente a parte inteira do número real armazenado em b."
      ]
    },
    {
      "cell_type": "code",
      "metadata": {
        "id": "BfHlCHJChCLG",
        "colab_type": "code",
        "colab": {
          "base_uri": "https://localhost:8080/",
          "height": 84
        },
        "outputId": "cebe570a-182d-4132-a483-8c7f43d3ac0e"
      },
      "source": [
        "time = float(input('Digite a hora desejada:').replace(',','.'))\n",
        "while (time%1>0.59):\n",
        "  time = float(input('Digite a hora desejada:').replace(',','.'))\n",
        "hour = int(time)\n",
        "minute = (time-hour)*100\n",
        "total_time = int(hour*60+minute)\n",
        "print('Tempo total:',total_time)"
      ],
      "execution_count": null,
      "outputs": [
        {
          "output_type": "stream",
          "text": [
            "Digite a hora desejada:3,80\n",
            "Digite a hora desejada:3,90\n",
            "Digite a hora desejada:3,5\n",
            "Tempo total: 230\n"
          ],
          "name": "stdout"
        }
      ]
    },
    {
      "cell_type": "markdown",
      "metadata": {
        "id": "g837-IGclC9m",
        "colab_type": "text"
      },
      "source": [
        "#### 2\n",
        "\n",
        "Faça um programa que receba o número de horas trabalhadas, o valor do salário mínimo e o\n",
        "número de horas extras trabalhadas, calcule e mostre o salário a receber, de acordo com as regras a seguir:\n",
        "\n",
        "• a hora trabalhada vale 1/8 do salário mínimo;\n",
        "\n",
        "• a hora extra vale 1/4 do salário mínimo."
      ]
    },
    {
      "cell_type": "code",
      "metadata": {
        "id": "d-YkLRehlStJ",
        "colab_type": "code",
        "colab": {
          "base_uri": "https://localhost:8080/",
          "height": 84
        },
        "outputId": "c2566682-9f0e-499b-a9b0-ce48b41aae32"
      },
      "source": [
        "work_time = int(input('Horas trabalhadas:'))\n",
        "salary = int(input('Valor salário mínimo:'))\n",
        "extra_hours = int(input('Horas extras:'))\n",
        "first_salary = work_time*(1/8)*salary\n",
        "second_salary = extra_hours*(1/4)*salary\n",
        "total = first_salary+second_salary\n",
        "\n",
        "print('O salário total: R$',total)"
      ],
      "execution_count": null,
      "outputs": [
        {
          "output_type": "stream",
          "text": [
            "Horas trabalhadas:40\n",
            "Valor salário mínimo:500\n",
            "Horas extras:20\n",
            "O salário total: 5000.0\n"
          ],
          "name": "stdout"
        }
      ]
    },
    {
      "cell_type": "markdown",
      "metadata": {
        "id": "Vvu80uBo92hH",
        "colab_type": "text"
      },
      "source": [
        "## Aula 2"
      ]
    },
    {
      "cell_type": "markdown",
      "metadata": {
        "id": "gh77cQW1949J",
        "colab_type": "text"
      },
      "source": [
        "### Exercício\n",
        "\n",
        "Receber as notas de P1 e P2 e trabalhos, e dizer se foi aprovado ou não, caso não, receber nota de APS, e ver se vai ser aprovado."
      ]
    },
    {
      "cell_type": "code",
      "metadata": {
        "id": "kwtRLe2L-G9g",
        "colab_type": "code",
        "colab": {
          "base_uri": "https://localhost:8080/",
          "height": 84
        },
        "outputId": "2444fba6-be6f-4d89-ee52-9b96da62fac1"
      },
      "source": [
        "p1 = float(input('Nota da P1:').replace(',','.'))\n",
        "p2 = float(input('Nota da P2:').replace(',','.'))\n",
        "\n",
        "sum = p1+p2\n",
        "\n",
        "if sum>=70:\n",
        "  print('Nota total:',sum)\n",
        "  print('Aprovado')\n",
        "elif sum<70:\n",
        "  nota_as=float(input('Nota da AS:').replace(',','.'))\n",
        "  if p1>p2:\n",
        "    sum=p1+nota_as\n",
        "  else:\n",
        "    sum = p2+nota_as\n",
        "  if sum>=70:\n",
        "    print('Nota total:',sum)\n",
        "    print('Aprovado')\n",
        "  else:\n",
        "    print('Nota total:',sum)\n",
        "    print('Reprovado')"
      ],
      "execution_count": 6,
      "outputs": [
        {
          "output_type": "stream",
          "text": [
            "Nota da P1:10\n",
            "Nota da P2:50\n",
            "Nota da AS:20\n",
            "Aprovado\n"
          ],
          "name": "stdout"
        }
      ]
    }
  ]
}